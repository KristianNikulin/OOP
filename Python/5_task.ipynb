{
 "cells": [
  {
   "cell_type": "markdown",
   "id": "85755de8",
   "metadata": {},
   "source": [
    "# Самостоятельное задание #5\n",
    "\n",
    "\n",
    "### Задание 1\n",
    "\n",
    "Допишите функцию, которая принимает список, выбирает из него все элементы с четным индексом и возвращает их в виде списка."
   ]
  },
  {
   "cell_type": "code",
   "execution_count": 6,
   "id": "6ef6d9b3",
   "metadata": {},
   "outputs": [
    {
     "name": "stdout",
     "output_type": "stream",
     "text": [
      "['0', '2']\n"
     ]
    }
   ],
   "source": [
    "a = []\n",
    "def even_numbered_list(list:a):\n",
    "    b = a[::2]\n",
    "    return b\n",
    "\n",
    "a = input().split()\n",
    "print(even_numbered_list(a))"
   ]
  },
  {
   "cell_type": "markdown",
   "id": "443974c9",
   "metadata": {},
   "source": [
    "### Задание 2\n",
    "\n",
    "Допишите функцию, которая принимает список, выбирает из него все элементы, которые больше предыдущего и возвращает их в виде списка.\n"
   ]
  },
  {
   "cell_type": "code",
   "execution_count": 25,
   "id": "3a8cf925",
   "metadata": {},
   "outputs": [
    {
     "name": "stdout",
     "output_type": "stream",
     "text": [
      "['3', '6', '4', '8']\n"
     ]
    }
   ],
   "source": [
    "a = []\n",
    "def increasing_numbers(list: a):\n",
    "    b = []\n",
    "    b.append(a[0])\n",
    "    for i in range(1, len(a)):\n",
    "        if a[i] > a[i-1]:\n",
    "            b.append(a[i])\n",
    "    return b\n",
    "\n",
    "a = input().split()\n",
    "print(increasing_numbers(a))"
   ]
  },
  {
   "cell_type": "markdown",
   "id": "34524ede",
   "metadata": {},
   "source": [
    "### Задание 3\n",
    "\n",
    "Допишите функцию, которая принимает список, меняет местами наибольший и наименьший элементы и возвращает этот список."
   ]
  },
  {
   "cell_type": "code",
   "execution_count": 3,
   "id": "34d2beae",
   "metadata": {},
   "outputs": [
    {
     "name": "stdout",
     "output_type": "stream",
     "text": [
      "['8', '4', '2', '1', '6']\n"
     ]
    }
   ],
   "source": [
    "a = []\n",
    "def change_numbers(list: a):\n",
    "    max_index = a.index(max(a))\n",
    "    min_index = a.index(min(a))\n",
    "    a[min_index], a[max_index] = a[max_index], a[min_index]\n",
    "    return a\n",
    "\n",
    "a = input().split()\n",
    "print(change_numbers(a))"
   ]
  }
 ],
 "metadata": {
  "kernelspec": {
   "display_name": "Python 3.8.5 32-bit",
   "language": "python",
   "name": "python3"
  },
  "language_info": {
   "codemirror_mode": {
    "name": "ipython",
    "version": 3
   },
   "file_extension": ".py",
   "mimetype": "text/x-python",
   "name": "python",
   "nbconvert_exporter": "python",
   "pygments_lexer": "ipython3",
   "version": "3.8.5"
  },
  "vscode": {
   "interpreter": {
    "hash": "652eaddb59176ef32f6983542cb69757b65b4893c8281464bbe40572652f5e7e"
   }
  }
 },
 "nbformat": 4,
 "nbformat_minor": 5
}
