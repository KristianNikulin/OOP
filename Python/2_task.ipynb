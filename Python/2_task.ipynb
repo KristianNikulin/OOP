{
 "cells": [
  {
   "cell_type": "markdown",
   "id": "246424fe",
   "metadata": {},
   "source": [
    "# Самостоятельная работа #2\n",
    "### Задание 1\n",
    "\n",
    "Допишите функцию, которая принимает 2 числа, сравнивает между собой и возвращает наименьшее."
   ]
  },
  {
   "cell_type": "code",
   "execution_count": 8,
   "id": "1b225d18",
   "metadata": {},
   "outputs": [],
   "source": [
    "def min_number(x, y):\n",
    "    if x <= y:\n",
    "        min = x\n",
    "    else:\n",
    "        min = y\n",
    "    return min\n",
    "\n",
    "x, y = map(int, input().split())\n",
    "answer = min_number(x, y)\n",
    "print(answer)"
   ]
  },
  {
   "cell_type": "markdown",
   "id": "9342d85f",
   "metadata": {},
   "source": [
    "### Задание 2\n",
    "\n",
    "Допишите функцию, которая принимает 3 числа, сравнивает между собой и возвращает наименьшее."
   ]
  },
  {
   "cell_type": "code",
   "execution_count": 5,
   "id": "5371aa95",
   "metadata": {},
   "outputs": [],
   "source": [
    "def min_number(x, y, z):\n",
    "    min = x\n",
    "    if y < min:\n",
    "        min = y\n",
    "    if z < min:\n",
    "        min = z\n",
    "    return min\n",
    "\n",
    "x, y, z = map(int, input().split())\n",
    "answer = min_number(x, y, z)\n",
    "print(answer)"
   ]
  },
  {
   "cell_type": "markdown",
   "id": "9ef85dfd",
   "metadata": {},
   "source": [
    "### Задание 2\n",
    "\n",
    "Допишите функцию, которая принимает 3 числа, сравнивает между собой и возвращает количество совпадающих чисел. Соответственно, программа может возвращать одно из трех чисел: 3 - если совпадают все, 2 - если совпадают 2 числа, 0 - если все числа различны."
   ]
  },
  {
   "cell_type": "code",
   "execution_count": null,
   "id": "ec6a169c",
   "metadata": {},
   "outputs": [],
   "source": [
    "def count_same_numbers(x, y, z):\n",
    "    count = 0\n",
    "    if x == y == z:\n",
    "        count = 3\n",
    "    elif x == y or x == z or y == z:\n",
    "        count = 2  \n",
    "    return count\n",
    "\n",
    "x, y, z = map(int, input().split())\n",
    "answer = count_same_numbers(x, y, z)\n",
    "print(answer)"
   ]
  }
 ],
 "metadata": {
  "kernelspec": {
   "display_name": "Python 3.8.5 32-bit",
   "language": "python",
   "name": "python3"
  },
  "language_info": {
   "codemirror_mode": {
    "name": "ipython",
    "version": 3
   },
   "file_extension": ".py",
   "mimetype": "text/x-python",
   "name": "python",
   "nbconvert_exporter": "python",
   "pygments_lexer": "ipython3",
   "version": "3.8.5"
  },
  "vscode": {
   "interpreter": {
    "hash": "652eaddb59176ef32f6983542cb69757b65b4893c8281464bbe40572652f5e7e"
   }
  }
 },
 "nbformat": 4,
 "nbformat_minor": 5
}
