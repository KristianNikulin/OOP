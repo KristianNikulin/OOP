{
 "cells": [
  {
   "cell_type": "markdown",
   "id": "caec52ff",
   "metadata": {},
   "source": [
    "# Самостоятельное задание\n",
    "\n",
    "Мы предлагаем вам потренироваться c логическими и побитовыми операторами."
   ]
  },
  {
   "cell_type": "code",
   "execution_count": 9,
   "id": "7fe7e97e",
   "metadata": {},
   "outputs": [],
   "source": [
    "a = True\n",
    "\n",
    "b = False"
   ]
  },
  {
   "cell_type": "markdown",
   "id": "06c53579",
   "metadata": {},
   "source": [
    "**Решите:**\n",
    "\n",
    "1. a and b\n",
    "\n",
    "**false**\n",
    "\n",
    "2. (a and b) or b\n",
    "\n",
    "**false**\n",
    "\n",
    "3. (a and b) or not (a and b)\n",
    "\n",
    "**true**\n",
    "\n",
    "4. a and b or not (a or b) or b\n",
    "\n",
    "**false**\n",
    "\n",
    "5. b and b or not a and (a or b or a) or not (a or b)\n",
    "\n",
    "**false**\n",
    "\n",
    "6. 1 << 2\n",
    "\n",
    "**4**\n",
    "\n",
    "7. 1 & 0 | 1 >> 1\n",
    "\n",
    "**0**\n",
    "\n",
    "8. 1 & 0 | 1 >> 0\n",
    "\n",
    "**1**\n",
    "\n",
    "9. 0b101 & 0b111 ^ 0b111 | 0b010  Комментарий: \"0b101\" - запись числа \"5\" на языке Python в двоичном виде\n",
    "\n",
    "**2**"
   ]
  }
 ],
 "metadata": {
  "kernelspec": {
   "display_name": "Python 3.8.5 32-bit",
   "language": "python",
   "name": "python3"
  },
  "language_info": {
   "codemirror_mode": {
    "name": "ipython",
    "version": 3
   },
   "file_extension": ".py",
   "mimetype": "text/x-python",
   "name": "python",
   "nbconvert_exporter": "python",
   "pygments_lexer": "ipython3",
   "version": "3.8.5"
  },
  "vscode": {
   "interpreter": {
    "hash": "652eaddb59176ef32f6983542cb69757b65b4893c8281464bbe40572652f5e7e"
   }
  }
 },
 "nbformat": 4,
 "nbformat_minor": 5
}
